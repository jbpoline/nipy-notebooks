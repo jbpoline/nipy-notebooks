{
 "metadata": {
  "name": "Anova"
 },
 "nbformat": 3,
 "nbformat_minor": 0,
 "worksheets": [
  {
   "cells": [
    {
     "cell_type": "heading",
     "level": 1,
     "metadata": {},
     "source": [
      "A quick notebook for a first explanation of anova's sum of square"
     ]
    },
    {
     "cell_type": "markdown",
     "metadata": {},
     "source": [
      "We are interested in the relation between the sum of squares of the anova table and the estimation of the means. \n",
      "Let's take the simplest case a t-test. We only have one factor, two levels, and  the model can be written in the following way:\n",
      "\n",
      "$$ \n",
      "Y_{ij} = \\alpha_i + \\epsilon_{ij}\n",
      "$$\n",
      "\n",
      "$j \\in \\\\{1 \\dots n\\\\}$  and $i \\in \\\\{1,2\\\\}$  if we have two groups. So, our *model* is $\\alpha_1$ that for the observations in the first group, $\\alpha_2$ for the second group, and some noise (of which we will have to specify the distribution). Let's also assume that then number of observation of group 1 and in group 2 is $n/2$\n",
      "This can written in matrix notation with \n",
      "\n",
      "$$\n",
      "Y = X \\beta + \\epsilon\n",
      "$$\n",
      "\n",
      "which we can write as\n",
      "\n",
      "$$\n",
      "Y =  X_1 \\beta_1 + X_2 \\beta_2 + \\epsilon\n",
      "$$\n",
      "\n",
      "Where $X_1$ and $X_2$ are columns vectors such that the ith row is 1 if the ith observation belongs to group 1 or group 2 respectively, 0 otherwise.\n",
      "\n",
      "Here we would have:\n",
      "\\begin{eqnarray} \n",
      "\\beta_1 & = & \\alpha_1 \\\\\\\n",
      "\\beta_2 & = & \\alpha_2\n",
      "\\end{eqnarray} \n",
      "\n",
      "\n",
      "Our null hypothesis is that \n",
      "\n",
      "$$\n",
      "\\beta_1 = \\beta_2\n",
      "$$\n",
      "\n",
      "and our model under the null hypthosis is \n",
      "\n",
      "$$ \n",
      "Y_{i} = \\mu + \\epsilon_{i}\n",
      "$$\n",
      "\n",
      "and with  $J$ being numpy's \"ones(n,1)\"  we can write in matrix form:\n",
      "$$ \n",
      "Y = \\mu J + \\epsilon\n",
      "$$\n",
      "\n",
      "Often, the reduced model (model under the null hypothesis) is called $X_0$ \n",
      "$$ \n",
      "Y = \\mu X_0 + \\epsilon\n",
      "$$\n",
      "\n",
      "\n",
      "\n",
      "\n",
      "\n",
      "\n",
      "\n",
      "\n",
      "\n"
     ]
    },
    {
     "cell_type": "markdown",
     "metadata": {},
     "source": [
      "If I call M the orthogonal projector onto $X$ and $I$ the identity matrix of dimension (n,n) defined as $X(X^tX)^-X^t$, and the residual forming matrix $R$, the sum of square is \n",
      "$$\n",
      "RSS = Y^t R Y = Y^t (I - M) Y\n",
      "$$\n",
      "\n",
      "Under the null, we have\n",
      "\n",
      "$$ \n",
      "RSS_0 =  Y^t (I - X(X_0^tX_0)^-X_0^t) = Y^t (I - \\frac{1}{n} JJ^t)Y \n",
      "$$\n"
     ]
    },
    {
     "cell_type": "markdown",
     "metadata": {},
     "source": [
      "The difference of sum of square, called the *extra* sum of square, is :\n",
      "\n",
      "$$\n",
      "RSS_0 - RSS = Y^t (M - \\frac{1}{n} JJ^t)Y\n",
      "$$\n"
     ]
    },
    {
     "cell_type": "markdown",
     "metadata": {},
     "source": [
      "Let's define $M_0$ the projector  \n",
      "\n",
      "$$\n",
      "M_* = M - \\frac{1}{n} JJ^t\n",
      "$$\n",
      "\n",
      "First, we see that the space spanned by $X$ contains the space spanned by $X_0$, because we can form all vectors of $X_0$ by a linear combinaison of vectors in $X$ (in this instance, $X_0 = J = X ~ [1 ~ 1]^t$ "
     ]
    },
    {
     "cell_type": "markdown",
     "metadata": {},
     "source": [
      "$M_*$ is spanning the space that is in $X$ but not in $X_0$. By rewritting $X$ as $[J ~ X_*]$, we can see that $M_*$ is $X_*(X_*^tX_*)^-X_*^t$. So our extra sum of square is :\n",
      "\n",
      "$$\n",
      "RSS_0 - RSS = Y^t X_*(X_*^tX_*)^-X_*^t Y\n",
      "$$\n",
      "\n",
      "One choice for $X_*$ is $X_1 - X_2$.\n",
      "\n",
      "But \n",
      "$$\n",
      "(X_*^t X_*)^{-}\n",
      "$$ \n",
      "\n",
      "is simply $1/n$ \n",
      "\n",
      "and $X_*^t Y$ is $\\frac{n}{2}(\\hat\\mu_1 - \\hat\\mu_2)$, \n",
      "\n",
      "so that we have \n",
      "\n",
      "$$\n",
      "RSS_0 - RSS = \\frac{n}{2}(\\hat\\mu_1 - \\hat\\mu_2)^2\n",
      "$$"
     ]
    },
    {
     "cell_type": "code",
     "collapsed": false,
     "input": [],
     "language": "python",
     "metadata": {},
     "outputs": []
    }
   ],
   "metadata": {}
  }
 ]
}