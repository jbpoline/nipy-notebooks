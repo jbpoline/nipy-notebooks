{
 "metadata": {
  "name": "wishart_test"
 },
 "nbformat": 3,
 "worksheets": [
  {
   "cells": [
    {
     "cell_type": "code",
     "input": [
      "import numpy as np",
      "import numpy.random as nr"
     ],
     "language": "python",
     "outputs": [],
     "prompt_number": 1
    },
    {
     "cell_type": "code",
     "input": [
      "def generate_normals(m, P):",
      "    \"\"\" Generate a Gaussian sample with mean m and precision P",
      "",
      "    Parameters",
      "    ----------",
      "    m array of shape n: the mean vector",
      "    P array of shape (n,n): the precision matrix",
      "",
      "    Returns",
      "    -------",
      "    ng : array of shape(n): a draw from the gaussian density",
      "    \"\"\"",
      "    icp = inv(cholesky(P))",
      "    ng = nr.randn(m.shape[0])",
      "    ng = np.dot(ng, icp)",
      "    ng += m",
      "    return ng",
      ""
     ],
     "language": "python",
     "outputs": [],
     "prompt_number": 2
    },
    {
     "cell_type": "code",
     "input": [
      "def sample_normals(m, V, n):",
      "    \"\"\" Generate a Gaussian sample with mean m and variance V",
      "",
      "    Parameters",
      "    ----------",
      "    m: array of shape n: the mean vector",
      "    V: array of shape (p,p): the variance matrix",
      "    n: the number of sample",
      "",
      "    Returns",
      "    -------",
      "    ng : array of shape(p,n): n draw from the gaussian density",
      "    \"\"\"",
      "    V12 = cholesky(V)",
      "    ng = nr.randn(m.shape[0],n)",
      "    ng = np.dot(V12, ng)",
      "    ng += m",
      "    return ng",
      ""
     ],
     "language": "python",
     "outputs": [],
     "prompt_number": 115
    },
    {
     "cell_type": "code",
     "input": [
      "def generate_Wishart(n, V):",
      "    \"\"\"",
      "    Generate a sample from Wishart density",
      "",
      "    Parameters",
      "    ----------",
      "    n: float,",
      "        the number of degrees of freedom of the Wishart density",
      "    V: array of shape (n,n)",
      "       the scale matrix of the Wishart density",
      "",
      "    Returns",
      "    -------",
      "    W: array of shape (n,n)",
      "       the draw from Wishart density",
      "    \"\"\"",
      "    icv = cholesky(V)",
      "    p = V.shape[0]",
      "    A = nr.randn(p, p)",
      "    for i in range(p):",
      "        A[i, i:] = 0",
      "        A[i, i] = np.sqrt(nr.chisquare(n - i))",
      "    R = np.dot(icv, A)",
      "    W = np.dot(R, R.T)",
      "    return W"
     ],
     "language": "python",
     "outputs": [],
     "prompt_number": 116
    },
    {
     "cell_type": "markdown",
     "source": [
      "$$ \\left[ \\begin{array}{c}  \\newline y_1  \\\\ y_2  \\\\ y_3  \\\\  y_4  \\\\ y_5  \\\\ y_6  \\\\ y_7  \\\\ y_8  \\\\ y_9  \\\\ \\end{array} \\right] $$",
      "",
      "=",
      "",
      "$$ \\left[",
      "\\begin{array}{ccc}",
      "  1 & 0 & 0  \\\\",
      "  1 & 0 & 0  \\\\",
      "  1 & 0 & 0  \\\\",
      "  0 & 1 & 0  \\\\",
      "  0 & 1 & 0  \\\\",
      "  0 & 1 & 0  \\\\",
      "  0 & 0 & 1  \\\\",
      "  0 & 0 & 1  \\\\",
      "  0 & 0 & 1  \\\\",
      "\\end{array}",
      "\\right]",
      "$$ ",
      "\\left[",
      "\\begin{array}{c}",
      "  \\beta_1 \\\\ \\beta_2 \\\\ \\beta_3",
      "\\end{array} \\right]",
      "+",
      "$$ \\left[ \\begin{array}{c} ",
      "  \\epsilon_1 \\\\ \\epsilon_2 \\\\ \\epsilon_3 \\\\",
      "  \\epsilon_4 \\\\ \\epsilon_5 \\\\ \\epsilon_6 \\\\",
      "  \\epsilon_7 \\\\ \\epsilon_8 \\\\ \\epsilon_9 \\\\",
      "\\end{array}",
      "\\right]",
      "$$",
      "",
      ""
     ]
    },
    {
     "cell_type": "raw",
     "source": [
      "Make sure we understand the code above. First generate a variance covariance matrix:",
      ""
     ]
    },
    {
     "cell_type": "code",
     "input": [
      "n = 1000",
      "p = 5",
      "D = nr.randn(p,n)",
      "# introduce some correlation",
      "D[0] = D[1] + D[2] + .2*nr.randn(n)",
      "V = np.cov(D)",
      "print('We have D, the data, with variance covariance V: \\n')",
      "print(np.around(V,2)) # 2 decimal points",
      "print(np.around(np.dot(D,D.T)/n,2)) # 2 decimal points",
      "",
      ""
     ],
     "language": "python",
     "outputs": [
      {
       "output_type": "stream",
       "stream": "stdout",
       "text": [
        "We have D, the data, with variance covariance V: ",
        "",
        "[[ 1.98  1.02  0.92  0.01 -0.11]",
        " [ 1.02  1.06 -0.05 -0.01 -0.07]",
        " [ 0.92 -0.05  0.97  0.03 -0.04]",
        " [ 0.01 -0.01  0.03  0.98 -0.02]",
        " [-0.11 -0.07 -0.04 -0.02  1.03]]",
        "[[ 1.98  1.01  0.92  0.02 -0.11]",
        " [ 1.01  1.06 -0.05 -0.01 -0.07]",
        " [ 0.92 -0.05  0.97  0.03 -0.04]",
        " [ 0.02 -0.01  0.03  0.98 -0.02]",
        " [-0.11 -0.07 -0.04 -0.02  1.03]]",
        ""
       ]
      }
     ],
     "prompt_number": 117
    },
    {
     "cell_type": "markdown",
     "source": [
      "The wishart distribution is such that if each row of a $(n,p)$ matrix X is drown independantly from a p-variate normal distribution,  ",
      "",
      "$$ X_{(i)} = (x_i^1, x_i^2, x_i^3, ..., x_i^p) \\sim N_p( 0,V )$$ ",
      "",
      "where $V$ is $( p, p )$",
      "",
      "then ",
      "",
      "$$ S = X^t X \\sim W_p(V,n) $$",
      "",
      "where $n$ is the degrees of freedom (related to the number of samples $i$ )",
      "",
      "(See [http://en.wikipedia.org/wiki/Wishart_distribution])"
     ]
    },
    {
     "cell_type": "markdown",
     "source": [
      "Another way to define the function: "
     ]
    },
    {
     "cell_type": "code",
     "input": [
      "from scipy.linalg import inv, cholesky, eigvalsh",
      "#",
      "def sample_wishart(V,n):",
      "    # generate gaussian N(0,V)",
      "    V12 = cholesky(V)",
      "    p = V.shape[0]",
      "    g = np.dot(V12,nr.randn(p,n))",
      "    # return np.dot(g,g.T)",
      "    return np.cov(g)"
     ],
     "language": "python",
     "outputs": [],
     "prompt_number": 118
    },
    {
     "cell_type": "code",
     "input": [
      "n = 100000",
      "s = sample_wishart(V,n)",
      "print('\\n sample Wishart')",
      "print np.around(s,2)",
      "",
      "w = generate_Wishart(n,V)",
      "print('\\n generate Wishart')",
      "print(np.around(w/n,2))"
     ],
     "language": "python",
     "outputs": [
      {
       "output_type": "stream",
       "stream": "stdout",
       "text": [
        "",
        " sample Wishart",
        "[[ 2.92  0.07  0.13  0.01 -0.09]",
        " [ 0.07  1.03 -0.13 -0.03 -0.01]",
        " [ 0.13 -0.13  0.04 -0.01 -0.  ]",
        " [ 0.01 -0.03 -0.01  0.98 -0.02]",
        " [-0.09 -0.01 -0.   -0.02  1.02]]",
        "",
        " generate Wishart",
        "[[ 2.93  0.07  0.12  0.01 -0.07]",
        " [ 0.07  1.05 -0.14 -0.02 -0.02]",
        " [ 0.12 -0.14  0.04 -0.   -0.  ]",
        " [ 0.01 -0.02 -0.    0.99 -0.02]",
        " [-0.07 -0.02 -0.   -0.02  1.02]]",
        ""
       ]
      }
     ],
     "prompt_number": 119
    },
    {
     "cell_type": "code",
     "input": [
      "print np.around(V,2)"
     ],
     "language": "python",
     "outputs": [
      {
       "output_type": "stream",
       "stream": "stdout",
       "text": [
        "[[ 1.98  1.02  0.92  0.01 -0.11]",
        " [ 1.02  1.06 -0.05 -0.01 -0.07]",
        " [ 0.92 -0.05  0.97  0.03 -0.04]",
        " [ 0.01 -0.01  0.03  0.98 -0.02]",
        " [-0.11 -0.07 -0.04 -0.02  1.03]]",
        ""
       ]
      }
     ],
     "prompt_number": 120
    },
    {
     "cell_type": "code",
     "input": [
      "#m = np.zeros((5,1))",
      "#ng = nr.randn(m.shape[0],n)",
      "#print ng.shape",
      "",
      "#np.dot(m,",
      "Y = sample_normals(m,V,10000)",
      "print( np.around(np.cov(Y),2))"
     ],
     "language": "python",
     "outputs": [
      {
       "output_type": "stream",
       "stream": "stdout",
       "text": [
        "[[ 2.9   0.07  0.12  0.03 -0.06]",
        " [ 0.07  1.05 -0.14 -0.02 -0.01]",
        " [ 0.12 -0.14  0.04 -0.   -0.  ]",
        " [ 0.03 -0.02 -0.    0.98 -0.02]",
        " [-0.06 -0.01 -0.   -0.02  1.03]]",
        ""
       ]
      }
     ],
     "prompt_number": 124
    },
    {
     "cell_type": "code",
     "input": [
      ""
     ],
     "language": "python",
     "outputs": [
      {
       "output_type": "pyout",
       "prompt_number": 105,
       "text": [
        "array([ 0.,  0.,  0.,  0.,  0.])"
       ]
      }
     ],
     "prompt_number": 105
    },
    {
     "cell_type": "code",
     "input": [
      ""
     ],
     "language": "python",
     "outputs": []
    }
   ]
  }
 ]
}